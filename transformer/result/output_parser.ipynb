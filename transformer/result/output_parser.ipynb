{
 "cells": [
  {
   "cell_type": "code",
   "execution_count": 1,
   "metadata": {},
   "outputs": [],
   "source": [
    "with open('/Users/sakshambassi/Documents/ML-2565/project/dragonnet/result/out.txt') as f:\n",
    "    lines = f.readlines()"
   ]
  },
  {
   "cell_type": "code",
   "execution_count": 2,
   "metadata": {},
   "outputs": [],
   "source": [
    "q_t0, q_t1, t, y = [], [], [], []\n",
    "flag = None\n",
    "for line in lines:\n",
    "    if line == \"'q_t0'\\n\":\n",
    "        flag = 'q_t0'\n",
    "        continue\n",
    "    elif line == \"'q_t1'\\n\":\n",
    "        flag = 'q_t1'\n",
    "        continue\n",
    "    elif line == \"'t'\\n\":\n",
    "        flag = 't'\n",
    "        continue\n",
    "    elif line == \"'y'\\n\":\n",
    "        flag = 'y'\n",
    "        continue\n",
    "    else:\n",
    "        if flag == 'q_t0':\n",
    "            q_t0.append(line)\n",
    "        elif flag == 'q_t1':\n",
    "            q_t1.append(line)\n",
    "        elif flag == 't':\n",
    "            t.append(line)\n",
    "        elif flag == 'y':\n",
    "            y.append(line)"
   ]
  },
  {
   "cell_type": "code",
   "execution_count": 12,
   "metadata": {},
   "outputs": [
    {
     "data": {
      "text/plain": [
       "'[[18.12012  ]\\n'"
      ]
     },
     "execution_count": 12,
     "metadata": {},
     "output_type": "execute_result"
    }
   ],
   "source": [
    "import re\n",
    "str(q_t0[0]).replace(\"[\\n\", \"\")"
   ]
  },
  {
   "cell_type": "code",
   "execution_count": 2,
   "metadata": {},
   "outputs": [],
   "source": [
    "y_pred = []\n",
    "for i in range(len(y)):\n",
    "    if t[i] == 0:\n",
    "        y_pred.append(q_t0[i])\n",
    "    else:\n",
    "        y_pred.append(q_t1[i])"
   ]
  },
  {
   "cell_type": "code",
   "execution_count": 3,
   "metadata": {},
   "outputs": [
    {
     "data": {
      "text/plain": [
       "[18.12012, 10.888612, 7.7172437, 9.441556, 10.636852, 16.987364]"
      ]
     },
     "execution_count": 3,
     "metadata": {},
     "output_type": "execute_result"
    }
   ],
   "source": [
    "y_pred"
   ]
  },
  {
   "cell_type": "code",
   "execution_count": 4,
   "metadata": {},
   "outputs": [],
   "source": [
    "from sklearn.metrics import mean_squared_error\n",
    "\n",
    "rms = mean_squared_error(y, y_pred, squared=False)"
   ]
  },
  {
   "cell_type": "code",
   "execution_count": 5,
   "metadata": {},
   "outputs": [
    {
     "data": {
      "text/plain": [
       "10.178387175448378"
      ]
     },
     "execution_count": 5,
     "metadata": {},
     "output_type": "execute_result"
    }
   ],
   "source": [
    "rms"
   ]
  }
 ],
 "metadata": {
  "kernelspec": {
   "display_name": "Python 3 (ipykernel)",
   "language": "python",
   "name": "python3"
  },
  "language_info": {
   "codemirror_mode": {
    "name": "ipython",
    "version": 3
   },
   "file_extension": ".py",
   "mimetype": "text/x-python",
   "name": "python",
   "nbconvert_exporter": "python",
   "pygments_lexer": "ipython3",
   "version": "3.8.5"
  }
 },
 "nbformat": 4,
 "nbformat_minor": 4
}
